{
 "cells": [
  {
   "cell_type": "markdown",
   "metadata": {
    "editable": true
   },
   "source": [
    "# EDA - Log Files"
   ]
  },
  {
   "cell_type": "markdown",
   "metadata": {
    "editable": true
   },
   "source": [
    "<p>This notebook is to analyze the Data files to understand how to load the data, Data Quality, Define Data Types & Define Constraints</p>"
   ]
  },
  {
   "cell_type": "code",
   "execution_count": 1,
   "metadata": {
    "editable": true
   },
   "outputs": [],
   "source": [
    "import pandas as pd\n",
    "import os\n",
    "from itertools import zip_longest\n",
    "import numpy as np"
   ]
  },
  {
   "cell_type": "code",
   "execution_count": 2,
   "metadata": {
    "editable": true
   },
   "outputs": [],
   "source": [
    "def FUNC_GetAllSubFiles(param_dir):\n",
    "    \n",
    "    LIST_AllDirs = []\n",
    "    \n",
    "    for dir_path, dir_names, file_names in os.walk(param_dir):\n",
    "        file_names = list(filter(lambda filename : filename.find('checkpoint')==-1 and filename.find('.json')!=-1, file_names))\n",
    "        if file_names != []:\n",
    "            LIST_AllDirs.extend(list(zip_longest([dir_path],file_names,fillvalue=dir_path)))\n",
    "        \n",
    "    return tuple(map(lambda x : os.path.join(x[0],x[1]),LIST_AllDirs))"
   ]
  },
  {
   "cell_type": "code",
   "execution_count": 3,
   "metadata": {
    "editable": true
   },
   "outputs": [
    {
     "data": {
      "text/plain": [
       "71"
      ]
     },
     "execution_count": 3,
     "metadata": {},
     "output_type": "execute_result"
    }
   ],
   "source": [
    "# Number of Files to process\n",
    "TUPLE_AllFiles = FUNC_GetAllSubFiles('data/song_data/')\n",
    "len(TUPLE_AllFiles)"
   ]
  },
  {
   "cell_type": "code",
   "execution_count": 4,
   "metadata": {
    "editable": true
   },
   "outputs": [],
   "source": [
    "DF_AllLogs = pd.DataFrame(columns=['artist_id', 'artist_latitude', 'artist_location', 'artist_longitude','artist_name', 'duration', 'num_songs', 'song_id', 'title', 'year'])"
   ]
  },
  {
   "cell_type": "code",
   "execution_count": 5,
   "metadata": {
    "editable": true
   },
   "outputs": [],
   "source": [
    "for filePath in TUPLE_AllFiles:\n",
    "    DF_Temp = pd.read_json(filePath, lines=True)\n",
    "    DF_Temp[\"SRC_FILE\"] = filePath.split('/')[-1]\n",
    "    DF_AllLogs = DF_AllLogs.append(DF_Temp,sort=False)"
   ]
  },
  {
   "cell_type": "code",
   "execution_count": 6,
   "metadata": {
    "editable": true
   },
   "outputs": [
    {
     "data": {
      "text/html": [
       "<div>\n",
       "<style scoped>\n",
       "    .dataframe tbody tr th:only-of-type {\n",
       "        vertical-align: middle;\n",
       "    }\n",
       "\n",
       "    .dataframe tbody tr th {\n",
       "        vertical-align: top;\n",
       "    }\n",
       "\n",
       "    .dataframe thead th {\n",
       "        text-align: right;\n",
       "    }\n",
       "</style>\n",
       "<table border=\"1\" class=\"dataframe\">\n",
       "  <thead>\n",
       "    <tr style=\"text-align: right;\">\n",
       "      <th></th>\n",
       "      <th>artist_id</th>\n",
       "      <th>artist_latitude</th>\n",
       "      <th>artist_location</th>\n",
       "      <th>artist_longitude</th>\n",
       "      <th>artist_name</th>\n",
       "      <th>duration</th>\n",
       "      <th>num_songs</th>\n",
       "      <th>song_id</th>\n",
       "      <th>title</th>\n",
       "      <th>year</th>\n",
       "      <th>SRC_FILE</th>\n",
       "    </tr>\n",
       "  </thead>\n",
       "  <tbody>\n",
       "    <tr>\n",
       "      <th>0</th>\n",
       "      <td>AR8IEZO1187B99055E</td>\n",
       "      <td>NaN</td>\n",
       "      <td></td>\n",
       "      <td>NaN</td>\n",
       "      <td>Marc Shaiman</td>\n",
       "      <td>149.86404</td>\n",
       "      <td>1</td>\n",
       "      <td>SOINLJW12A8C13314C</td>\n",
       "      <td>City Slickers</td>\n",
       "      <td>2008</td>\n",
       "      <td>TRABCRU128F423F449.json</td>\n",
       "    </tr>\n",
       "    <tr>\n",
       "      <th>0</th>\n",
       "      <td>AR558FS1187FB45658</td>\n",
       "      <td>NaN</td>\n",
       "      <td></td>\n",
       "      <td>NaN</td>\n",
       "      <td>40 Grit</td>\n",
       "      <td>75.67628</td>\n",
       "      <td>1</td>\n",
       "      <td>SOGDBUF12A8C140FAA</td>\n",
       "      <td>Intro</td>\n",
       "      <td>2003</td>\n",
       "      <td>TRABCTK128F934B224.json</td>\n",
       "    </tr>\n",
       "    <tr>\n",
       "      <th>0</th>\n",
       "      <td>ARVBRGZ1187FB4675A</td>\n",
       "      <td>NaN</td>\n",
       "      <td></td>\n",
       "      <td>NaN</td>\n",
       "      <td>Gwen Stefani</td>\n",
       "      <td>290.55955</td>\n",
       "      <td>1</td>\n",
       "      <td>SORRZGD12A6310DBC3</td>\n",
       "      <td>Harajuku Girls</td>\n",
       "      <td>2004</td>\n",
       "      <td>TRABCUQ128E0783E2B.json</td>\n",
       "    </tr>\n",
       "    <tr>\n",
       "      <th>0</th>\n",
       "      <td>ARNF6401187FB57032</td>\n",
       "      <td>40.79086</td>\n",
       "      <td>New York, NY [Manhattan]</td>\n",
       "      <td>-73.96644</td>\n",
       "      <td>Sophie B. Hawkins</td>\n",
       "      <td>305.16200</td>\n",
       "      <td>1</td>\n",
       "      <td>SONWXQJ12A8C134D94</td>\n",
       "      <td>The Ballad Of Sleeping Beauty</td>\n",
       "      <td>1994</td>\n",
       "      <td>TRABCIX128F4265903.json</td>\n",
       "    </tr>\n",
       "    <tr>\n",
       "      <th>0</th>\n",
       "      <td>AREVWGE1187B9B890A</td>\n",
       "      <td>-13.44200</td>\n",
       "      <td>Noci (BA)</td>\n",
       "      <td>-41.99520</td>\n",
       "      <td>Bitter End</td>\n",
       "      <td>282.43546</td>\n",
       "      <td>1</td>\n",
       "      <td>SOFCHDR12AB01866EF</td>\n",
       "      <td>Living Hell</td>\n",
       "      <td>0</td>\n",
       "      <td>TRABCYE128F934CE1D.json</td>\n",
       "    </tr>\n",
       "  </tbody>\n",
       "</table>\n",
       "</div>"
      ],
      "text/plain": [
       "            artist_id  artist_latitude           artist_location  \\\n",
       "0  AR8IEZO1187B99055E              NaN                             \n",
       "0  AR558FS1187FB45658              NaN                             \n",
       "0  ARVBRGZ1187FB4675A              NaN                             \n",
       "0  ARNF6401187FB57032         40.79086  New York, NY [Manhattan]   \n",
       "0  AREVWGE1187B9B890A        -13.44200                 Noci (BA)   \n",
       "\n",
       "   artist_longitude        artist_name   duration num_songs  \\\n",
       "0               NaN       Marc Shaiman  149.86404         1   \n",
       "0               NaN            40 Grit   75.67628         1   \n",
       "0               NaN       Gwen Stefani  290.55955         1   \n",
       "0         -73.96644  Sophie B. Hawkins  305.16200         1   \n",
       "0         -41.99520         Bitter End  282.43546         1   \n",
       "\n",
       "              song_id                          title  year  \\\n",
       "0  SOINLJW12A8C13314C                  City Slickers  2008   \n",
       "0  SOGDBUF12A8C140FAA                          Intro  2003   \n",
       "0  SORRZGD12A6310DBC3                 Harajuku Girls  2004   \n",
       "0  SONWXQJ12A8C134D94  The Ballad Of Sleeping Beauty  1994   \n",
       "0  SOFCHDR12AB01866EF                    Living Hell     0   \n",
       "\n",
       "                  SRC_FILE  \n",
       "0  TRABCRU128F423F449.json  \n",
       "0  TRABCTK128F934B224.json  \n",
       "0  TRABCUQ128E0783E2B.json  \n",
       "0  TRABCIX128F4265903.json  \n",
       "0  TRABCYE128F934CE1D.json  "
      ]
     },
     "execution_count": 6,
     "metadata": {},
     "output_type": "execute_result"
    }
   ],
   "source": [
    "DF_AllLogs.head()"
   ]
  },
  {
   "cell_type": "code",
   "execution_count": 7,
   "metadata": {
    "editable": true
   },
   "outputs": [
    {
     "data": {
      "text/plain": [
       "artist_id            object\n",
       "artist_latitude     float64\n",
       "artist_location      object\n",
       "artist_longitude    float64\n",
       "artist_name          object\n",
       "duration            float64\n",
       "num_songs            object\n",
       "song_id              object\n",
       "title                object\n",
       "year                 object\n",
       "SRC_FILE             object\n",
       "dtype: object"
      ]
     },
     "execution_count": 7,
     "metadata": {},
     "output_type": "execute_result"
    }
   ],
   "source": [
    "DF_AllLogs.dtypes"
   ]
  },
  {
   "cell_type": "code",
   "execution_count": 8,
   "metadata": {
    "editable": true
   },
   "outputs": [],
   "source": [
    "# Casting Columns to the right data types\n",
    "DF_AllLogs.num_songs = DF_AllLogs.num_songs.astype('int', copy=True)\n",
    "DF_AllLogs.year = DF_AllLogs.year.astype('int', copy=True)"
   ]
  },
  {
   "cell_type": "code",
   "execution_count": 9,
   "metadata": {
    "editable": true
   },
   "outputs": [
    {
     "data": {
      "text/plain": [
       "artist_id            object\n",
       "artist_latitude     float64\n",
       "artist_location      object\n",
       "artist_longitude    float64\n",
       "artist_name          object\n",
       "duration            float64\n",
       "num_songs             int64\n",
       "song_id              object\n",
       "title                object\n",
       "year                  int64\n",
       "SRC_FILE             object\n",
       "dtype: object"
      ]
     },
     "execution_count": 9,
     "metadata": {},
     "output_type": "execute_result"
    }
   ],
   "source": [
    "SERIES_DTypes = DF_AllLogs.dtypes\n",
    "SERIES_DTypes"
   ]
  },
  {
   "cell_type": "markdown",
   "metadata": {
    "editable": true
   },
   "source": [
    "### Checking Uniqueness"
   ]
  },
  {
   "cell_type": "code",
   "execution_count": 10,
   "metadata": {
    "editable": true
   },
   "outputs": [
    {
     "data": {
      "text/plain": [
       "71"
      ]
     },
     "execution_count": 10,
     "metadata": {},
     "output_type": "execute_result"
    }
   ],
   "source": [
    "len(DF_AllLogs)"
   ]
  },
  {
   "cell_type": "code",
   "execution_count": 11,
   "metadata": {
    "editable": true
   },
   "outputs": [
    {
     "data": {
      "text/plain": [
       "71"
      ]
     },
     "execution_count": 11,
     "metadata": {},
     "output_type": "execute_result"
    }
   ],
   "source": [
    "len(DF_AllLogs.song_id.unique())"
   ]
  },
  {
   "cell_type": "markdown",
   "metadata": {
    "editable": true
   },
   "source": [
    "<p> Each file contains only one Song</p>"
   ]
  },
  {
   "cell_type": "markdown",
   "metadata": {
    "editable": true
   },
   "source": [
    "### Checking Nullability"
   ]
  },
  {
   "cell_type": "code",
   "execution_count": 12,
   "metadata": {
    "editable": true
   },
   "outputs": [
    {
     "data": {
      "text/plain": [
       "artist_id            0\n",
       "artist_latitude     40\n",
       "artist_location      0\n",
       "artist_longitude    40\n",
       "artist_name          0\n",
       "duration             0\n",
       "num_songs            0\n",
       "song_id              0\n",
       "title                0\n",
       "year                 0\n",
       "SRC_FILE             0\n",
       "dtype: int64"
      ]
     },
     "execution_count": 12,
     "metadata": {},
     "output_type": "execute_result"
    }
   ],
   "source": [
    "DF_AllLogs.isna().sum()"
   ]
  },
  {
   "cell_type": "markdown",
   "metadata": {
    "editable": true
   },
   "source": [
    "<p>artist_latitude & artist_longitude Columns Contain Nulls, these nulls will be handled in Python using default Value</p>"
   ]
  },
  {
   "cell_type": "code",
   "execution_count": 13,
   "metadata": {
    "editable": true
   },
   "outputs": [
    {
     "data": {
      "text/plain": [
       "artist_id           False\n",
       "artist_latitude     False\n",
       "artist_location      True\n",
       "artist_longitude    False\n",
       "artist_name         False\n",
       "duration            False\n",
       "num_songs           False\n",
       "song_id             False\n",
       "title               False\n",
       "year                False\n",
       "SRC_FILE            False\n",
       "dtype: bool"
      ]
     },
     "execution_count": 13,
     "metadata": {},
     "output_type": "execute_result"
    }
   ],
   "source": [
    "DF_AllLogs.applymap(lambda x:x==\"\").any()"
   ]
  },
  {
   "cell_type": "code",
   "execution_count": 14,
   "metadata": {
    "editable": true
   },
   "outputs": [
    {
     "data": {
      "text/plain": [
       "28"
      ]
     },
     "execution_count": 14,
     "metadata": {},
     "output_type": "execute_result"
    }
   ],
   "source": [
    "len(DF_AllLogs[DF_AllLogs.artist_location==\"\"])"
   ]
  },
  {
   "cell_type": "markdown",
   "metadata": {
    "editable": true
   },
   "source": [
    "<p>artist_location Contains 28 empty strings, These values need to be replaced in Python</p> "
   ]
  },
  {
   "cell_type": "code",
   "execution_count": 15,
   "metadata": {
    "editable": true
   },
   "outputs": [
    {
     "data": {
      "text/html": [
       "<div>\n",
       "<style scoped>\n",
       "    .dataframe tbody tr th:only-of-type {\n",
       "        vertical-align: middle;\n",
       "    }\n",
       "\n",
       "    .dataframe tbody tr th {\n",
       "        vertical-align: top;\n",
       "    }\n",
       "\n",
       "    .dataframe thead th {\n",
       "        text-align: right;\n",
       "    }\n",
       "</style>\n",
       "<table border=\"1\" class=\"dataframe\">\n",
       "  <thead>\n",
       "    <tr style=\"text-align: right;\">\n",
       "      <th></th>\n",
       "      <th>duration</th>\n",
       "      <th>num_songs</th>\n",
       "      <th>song_id</th>\n",
       "      <th>title</th>\n",
       "      <th>year</th>\n",
       "    </tr>\n",
       "  </thead>\n",
       "  <tbody>\n",
       "    <tr>\n",
       "      <th>0</th>\n",
       "      <td>149.86404</td>\n",
       "      <td>1</td>\n",
       "      <td>SOINLJW12A8C13314C</td>\n",
       "      <td>City Slickers</td>\n",
       "      <td>2008</td>\n",
       "    </tr>\n",
       "    <tr>\n",
       "      <th>0</th>\n",
       "      <td>75.67628</td>\n",
       "      <td>1</td>\n",
       "      <td>SOGDBUF12A8C140FAA</td>\n",
       "      <td>Intro</td>\n",
       "      <td>2003</td>\n",
       "    </tr>\n",
       "    <tr>\n",
       "      <th>0</th>\n",
       "      <td>290.55955</td>\n",
       "      <td>1</td>\n",
       "      <td>SORRZGD12A6310DBC3</td>\n",
       "      <td>Harajuku Girls</td>\n",
       "      <td>2004</td>\n",
       "    </tr>\n",
       "    <tr>\n",
       "      <th>0</th>\n",
       "      <td>305.16200</td>\n",
       "      <td>1</td>\n",
       "      <td>SONWXQJ12A8C134D94</td>\n",
       "      <td>The Ballad Of Sleeping Beauty</td>\n",
       "      <td>1994</td>\n",
       "    </tr>\n",
       "    <tr>\n",
       "      <th>0</th>\n",
       "      <td>282.43546</td>\n",
       "      <td>1</td>\n",
       "      <td>SOFCHDR12AB01866EF</td>\n",
       "      <td>Living Hell</td>\n",
       "      <td>0</td>\n",
       "    </tr>\n",
       "  </tbody>\n",
       "</table>\n",
       "</div>"
      ],
      "text/plain": [
       "    duration  num_songs             song_id                          title  \\\n",
       "0  149.86404          1  SOINLJW12A8C13314C                  City Slickers   \n",
       "0   75.67628          1  SOGDBUF12A8C140FAA                          Intro   \n",
       "0  290.55955          1  SORRZGD12A6310DBC3                 Harajuku Girls   \n",
       "0  305.16200          1  SONWXQJ12A8C134D94  The Ballad Of Sleeping Beauty   \n",
       "0  282.43546          1  SOFCHDR12AB01866EF                    Living Hell   \n",
       "\n",
       "   year  \n",
       "0  2008  \n",
       "0  2003  \n",
       "0  2004  \n",
       "0  1994  \n",
       "0     0  "
      ]
     },
     "execution_count": 15,
     "metadata": {},
     "output_type": "execute_result"
    }
   ],
   "source": [
    "DF_AllLogs[['duration', 'num_songs', 'song_id', 'title', 'year']].head()"
   ]
  },
  {
   "cell_type": "code",
   "execution_count": 16,
   "metadata": {
    "editable": true
   },
   "outputs": [
    {
     "data": {
      "text/plain": [
       "43"
      ]
     },
     "execution_count": 16,
     "metadata": {},
     "output_type": "execute_result"
    }
   ],
   "source": [
    "# 43 Years are zeros this needs to be handled in Python\n",
    "len(DF_AllLogs[DF_AllLogs.year ==0])"
   ]
  },
  {
   "cell_type": "markdown",
   "metadata": {
    "editable": true
   },
   "source": [
    "Getting the Length of all the Columns to define Tables DDLs"
   ]
  },
  {
   "cell_type": "code",
   "execution_count": 17,
   "metadata": {
    "editable": true
   },
   "outputs": [
    {
     "name": "stdout",
     "output_type": "stream",
     "text": [
      "artist_id : 18\n",
      "artist_location : 29\n",
      "artist_name : 94\n",
      "song_id : 18\n",
      "title : 52\n",
      "SRC_FILE : 23\n"
     ]
    }
   ],
   "source": [
    "for col in SERIES_DTypes[SERIES_DTypes.values == 'object'].index:\n",
    "    print(\"{} : {}\".format(col,max(DF_AllLogs[col].str.len().values)))"
   ]
  },
  {
   "cell_type": "code",
   "execution_count": 18,
   "metadata": {
    "editable": true
   },
   "outputs": [
    {
     "data": {
      "text/html": [
       "<div>\n",
       "<style scoped>\n",
       "    .dataframe tbody tr th:only-of-type {\n",
       "        vertical-align: middle;\n",
       "    }\n",
       "\n",
       "    .dataframe tbody tr th {\n",
       "        vertical-align: top;\n",
       "    }\n",
       "\n",
       "    .dataframe thead th {\n",
       "        text-align: right;\n",
       "    }\n",
       "</style>\n",
       "<table border=\"1\" class=\"dataframe\">\n",
       "  <thead>\n",
       "    <tr style=\"text-align: right;\">\n",
       "      <th></th>\n",
       "      <th>artist_id</th>\n",
       "      <th>artist_latitude</th>\n",
       "      <th>artist_location</th>\n",
       "      <th>artist_longitude</th>\n",
       "      <th>artist_name</th>\n",
       "      <th>duration</th>\n",
       "      <th>num_songs</th>\n",
       "      <th>song_id</th>\n",
       "      <th>title</th>\n",
       "      <th>year</th>\n",
       "      <th>SRC_FILE</th>\n",
       "    </tr>\n",
       "  </thead>\n",
       "  <tbody>\n",
       "    <tr>\n",
       "      <th>0</th>\n",
       "      <td>ARDR4AC1187FB371A1</td>\n",
       "      <td>NaN</td>\n",
       "      <td></td>\n",
       "      <td>NaN</td>\n",
       "      <td>Montserrat Caballé;Placido Domingo;Vicente Sar...</td>\n",
       "      <td>511.16363</td>\n",
       "      <td>1</td>\n",
       "      <td>SOBAYLL12A8C138AF9</td>\n",
       "      <td>Sono andati? Fingevo di dormire</td>\n",
       "      <td>0</td>\n",
       "      <td>TRABBOR128F4286200.json</td>\n",
       "    </tr>\n",
       "  </tbody>\n",
       "</table>\n",
       "</div>"
      ],
      "text/plain": [
       "            artist_id  artist_latitude artist_location  artist_longitude  \\\n",
       "0  ARDR4AC1187FB371A1              NaN                               NaN   \n",
       "\n",
       "                                         artist_name   duration  num_songs  \\\n",
       "0  Montserrat Caballé;Placido Domingo;Vicente Sar...  511.16363          1   \n",
       "\n",
       "              song_id                            title  year  \\\n",
       "0  SOBAYLL12A8C138AF9  Sono andati? Fingevo di dormire     0   \n",
       "\n",
       "                  SRC_FILE  \n",
       "0  TRABBOR128F4286200.json  "
      ]
     },
     "execution_count": 18,
     "metadata": {},
     "output_type": "execute_result"
    }
   ],
   "source": [
    "DF_AllLogs[DF_AllLogs.artist_name.str.len() == 94]"
   ]
  },
  {
   "cell_type": "markdown",
   "metadata": {
    "editable": true
   },
   "source": [
    "## Song Table Data Processing"
   ]
  },
  {
   "cell_type": "code",
   "execution_count": 19,
   "metadata": {
    "editable": true
   },
   "outputs": [],
   "source": [
    "def FUNC_ProcessSongData(param_df):\n",
    "    \"\"\"A Function to Process Song Table Data, recieves a Dataframe then selects, processes & returns Song Data ready to be inserted in the Db\"\"\"\n",
    "    try:\n",
    "        DF_SongData = param_df[['song_id','title','artist_id','year','duration']].copy()\n",
    "        DF_SongData.year = DF_SongData.year.apply(lambda x: -9999 if x in (0,np.nan) else x)# Changing 0 years into the default value of missing numeric value -9999\n",
    "        \n",
    "        return DF_SongData\n",
    "    except Exception as e:\n",
    "        print(\"ERROR: {}\".format(e))"
   ]
  },
  {
   "cell_type": "code",
   "execution_count": 20,
   "metadata": {
    "editable": true
   },
   "outputs": [
    {
     "data": {
      "text/html": [
       "<div>\n",
       "<style scoped>\n",
       "    .dataframe tbody tr th:only-of-type {\n",
       "        vertical-align: middle;\n",
       "    }\n",
       "\n",
       "    .dataframe tbody tr th {\n",
       "        vertical-align: top;\n",
       "    }\n",
       "\n",
       "    .dataframe thead th {\n",
       "        text-align: right;\n",
       "    }\n",
       "</style>\n",
       "<table border=\"1\" class=\"dataframe\">\n",
       "  <thead>\n",
       "    <tr style=\"text-align: right;\">\n",
       "      <th></th>\n",
       "      <th>song_id</th>\n",
       "      <th>title</th>\n",
       "      <th>artist_id</th>\n",
       "      <th>year</th>\n",
       "      <th>duration</th>\n",
       "    </tr>\n",
       "  </thead>\n",
       "  <tbody>\n",
       "    <tr>\n",
       "      <th>0</th>\n",
       "      <td>SOINLJW12A8C13314C</td>\n",
       "      <td>City Slickers</td>\n",
       "      <td>AR8IEZO1187B99055E</td>\n",
       "      <td>2008</td>\n",
       "      <td>149.86404</td>\n",
       "    </tr>\n",
       "    <tr>\n",
       "      <th>0</th>\n",
       "      <td>SOGDBUF12A8C140FAA</td>\n",
       "      <td>Intro</td>\n",
       "      <td>AR558FS1187FB45658</td>\n",
       "      <td>2003</td>\n",
       "      <td>75.67628</td>\n",
       "    </tr>\n",
       "    <tr>\n",
       "      <th>0</th>\n",
       "      <td>SORRZGD12A6310DBC3</td>\n",
       "      <td>Harajuku Girls</td>\n",
       "      <td>ARVBRGZ1187FB4675A</td>\n",
       "      <td>2004</td>\n",
       "      <td>290.55955</td>\n",
       "    </tr>\n",
       "    <tr>\n",
       "      <th>0</th>\n",
       "      <td>SONWXQJ12A8C134D94</td>\n",
       "      <td>The Ballad Of Sleeping Beauty</td>\n",
       "      <td>ARNF6401187FB57032</td>\n",
       "      <td>1994</td>\n",
       "      <td>305.16200</td>\n",
       "    </tr>\n",
       "    <tr>\n",
       "      <th>0</th>\n",
       "      <td>SOFCHDR12AB01866EF</td>\n",
       "      <td>Living Hell</td>\n",
       "      <td>AREVWGE1187B9B890A</td>\n",
       "      <td>-9999</td>\n",
       "      <td>282.43546</td>\n",
       "    </tr>\n",
       "  </tbody>\n",
       "</table>\n",
       "</div>"
      ],
      "text/plain": [
       "              song_id                          title           artist_id  \\\n",
       "0  SOINLJW12A8C13314C                  City Slickers  AR8IEZO1187B99055E   \n",
       "0  SOGDBUF12A8C140FAA                          Intro  AR558FS1187FB45658   \n",
       "0  SORRZGD12A6310DBC3                 Harajuku Girls  ARVBRGZ1187FB4675A   \n",
       "0  SONWXQJ12A8C134D94  The Ballad Of Sleeping Beauty  ARNF6401187FB57032   \n",
       "0  SOFCHDR12AB01866EF                    Living Hell  AREVWGE1187B9B890A   \n",
       "\n",
       "   year   duration  \n",
       "0  2008  149.86404  \n",
       "0  2003   75.67628  \n",
       "0  2004  290.55955  \n",
       "0  1994  305.16200  \n",
       "0 -9999  282.43546  "
      ]
     },
     "execution_count": 20,
     "metadata": {},
     "output_type": "execute_result"
    }
   ],
   "source": [
    "FUNC_ProcessSongData(DF_AllLogs).head()"
   ]
  },
  {
   "cell_type": "code",
   "execution_count": 21,
   "metadata": {
    "editable": true
   },
   "outputs": [
    {
     "data": {
      "text/html": [
       "<div>\n",
       "<style scoped>\n",
       "    .dataframe tbody tr th:only-of-type {\n",
       "        vertical-align: middle;\n",
       "    }\n",
       "\n",
       "    .dataframe tbody tr th {\n",
       "        vertical-align: top;\n",
       "    }\n",
       "\n",
       "    .dataframe thead th {\n",
       "        text-align: right;\n",
       "    }\n",
       "</style>\n",
       "<table border=\"1\" class=\"dataframe\">\n",
       "  <thead>\n",
       "    <tr style=\"text-align: right;\">\n",
       "      <th></th>\n",
       "      <th>song_id</th>\n",
       "      <th>title</th>\n",
       "      <th>artist_id</th>\n",
       "      <th>year</th>\n",
       "      <th>duration</th>\n",
       "    </tr>\n",
       "  </thead>\n",
       "  <tbody>\n",
       "    <tr>\n",
       "      <th>0</th>\n",
       "      <td>SOINLJW12A8C13314C</td>\n",
       "      <td>City Slickers</td>\n",
       "      <td>AR8IEZO1187B99055E</td>\n",
       "      <td>2008</td>\n",
       "      <td>149.86404</td>\n",
       "    </tr>\n",
       "    <tr>\n",
       "      <th>0</th>\n",
       "      <td>SOGDBUF12A8C140FAA</td>\n",
       "      <td>Intro</td>\n",
       "      <td>AR558FS1187FB45658</td>\n",
       "      <td>2003</td>\n",
       "      <td>75.67628</td>\n",
       "    </tr>\n",
       "    <tr>\n",
       "      <th>0</th>\n",
       "      <td>SORRZGD12A6310DBC3</td>\n",
       "      <td>Harajuku Girls</td>\n",
       "      <td>ARVBRGZ1187FB4675A</td>\n",
       "      <td>2004</td>\n",
       "      <td>290.55955</td>\n",
       "    </tr>\n",
       "    <tr>\n",
       "      <th>0</th>\n",
       "      <td>SONWXQJ12A8C134D94</td>\n",
       "      <td>The Ballad Of Sleeping Beauty</td>\n",
       "      <td>ARNF6401187FB57032</td>\n",
       "      <td>1994</td>\n",
       "      <td>305.16200</td>\n",
       "    </tr>\n",
       "    <tr>\n",
       "      <th>0</th>\n",
       "      <td>SOFCHDR12AB01866EF</td>\n",
       "      <td>Living Hell</td>\n",
       "      <td>AREVWGE1187B9B890A</td>\n",
       "      <td>-9999</td>\n",
       "      <td>282.43546</td>\n",
       "    </tr>\n",
       "    <tr>\n",
       "      <th>0</th>\n",
       "      <td>SONSKXP12A8C13A2C9</td>\n",
       "      <td>Native Soul</td>\n",
       "      <td>AR0IAWL1187B9A96D0</td>\n",
       "      <td>2003</td>\n",
       "      <td>197.19791</td>\n",
       "    </tr>\n",
       "    <tr>\n",
       "      <th>0</th>\n",
       "      <td>SODAUVL12A8C13D184</td>\n",
       "      <td>Prognosis</td>\n",
       "      <td>ARWB3G61187FB49404</td>\n",
       "      <td>2000</td>\n",
       "      <td>363.85914</td>\n",
       "    </tr>\n",
       "    <tr>\n",
       "      <th>0</th>\n",
       "      <td>SOSWKAV12AB018FC91</td>\n",
       "      <td>Midnight Star</td>\n",
       "      <td>ARULZCI1241B9C8611</td>\n",
       "      <td>-9999</td>\n",
       "      <td>335.51628</td>\n",
       "    </tr>\n",
       "    <tr>\n",
       "      <th>0</th>\n",
       "      <td>SOLYIBD12A8C135045</td>\n",
       "      <td>Music is what we love</td>\n",
       "      <td>AR051KA1187B98B2FF</td>\n",
       "      <td>-9999</td>\n",
       "      <td>261.51138</td>\n",
       "    </tr>\n",
       "    <tr>\n",
       "      <th>0</th>\n",
       "      <td>SOWQTQZ12A58A7B63E</td>\n",
       "      <td>Streets On Fire (Explicit Album Version)</td>\n",
       "      <td>ARPFHN61187FB575F6</td>\n",
       "      <td>-9999</td>\n",
       "      <td>279.97995</td>\n",
       "    </tr>\n",
       "  </tbody>\n",
       "</table>\n",
       "</div>"
      ],
      "text/plain": [
       "              song_id                                     title  \\\n",
       "0  SOINLJW12A8C13314C                             City Slickers   \n",
       "0  SOGDBUF12A8C140FAA                                     Intro   \n",
       "0  SORRZGD12A6310DBC3                            Harajuku Girls   \n",
       "0  SONWXQJ12A8C134D94             The Ballad Of Sleeping Beauty   \n",
       "0  SOFCHDR12AB01866EF                               Living Hell   \n",
       "0  SONSKXP12A8C13A2C9                               Native Soul   \n",
       "0  SODAUVL12A8C13D184                                 Prognosis   \n",
       "0  SOSWKAV12AB018FC91                             Midnight Star   \n",
       "0  SOLYIBD12A8C135045                     Music is what we love   \n",
       "0  SOWQTQZ12A58A7B63E  Streets On Fire (Explicit Album Version)   \n",
       "\n",
       "            artist_id  year   duration  \n",
       "0  AR8IEZO1187B99055E  2008  149.86404  \n",
       "0  AR558FS1187FB45658  2003   75.67628  \n",
       "0  ARVBRGZ1187FB4675A  2004  290.55955  \n",
       "0  ARNF6401187FB57032  1994  305.16200  \n",
       "0  AREVWGE1187B9B890A -9999  282.43546  \n",
       "0  AR0IAWL1187B9A96D0  2003  197.19791  \n",
       "0  ARWB3G61187FB49404  2000  363.85914  \n",
       "0  ARULZCI1241B9C8611 -9999  335.51628  \n",
       "0  AR051KA1187B98B2FF -9999  261.51138  \n",
       "0  ARPFHN61187FB575F6 -9999  279.97995  "
      ]
     },
     "execution_count": 21,
     "metadata": {},
     "output_type": "execute_result"
    }
   ],
   "source": [
    "FUNC_ProcessSongData(DF_AllLogs).head(10)"
   ]
  },
  {
   "cell_type": "code",
   "execution_count": 22,
   "metadata": {
    "editable": true
   },
   "outputs": [
    {
     "data": {
      "text/plain": [
       "71"
      ]
     },
     "execution_count": 22,
     "metadata": {},
     "output_type": "execute_result"
    }
   ],
   "source": [
    "len(DF_AllLogs.song_id.unique())"
   ]
  },
  {
   "cell_type": "code",
   "execution_count": 23,
   "metadata": {
    "editable": true
   },
   "outputs": [
    {
     "data": {
      "text/plain": [
       "71"
      ]
     },
     "execution_count": 23,
     "metadata": {},
     "output_type": "execute_result"
    }
   ],
   "source": [
    "len(FUNC_ProcessSongData(DF_AllLogs).song_id.unique())"
   ]
  },
  {
   "cell_type": "markdown",
   "metadata": {
    "editable": true
   },
   "source": [
    "## Artist Table Data Processing"
   ]
  },
  {
   "cell_type": "code",
   "execution_count": 24,
   "metadata": {
    "editable": true
   },
   "outputs": [],
   "source": [
    "def FUNC_ProcessArtistData(param_df):\n",
    "    \"\"\"A Function to Process Artist Table Data, recieves a Dataframe then selects, processes & returns Song Data ready to be inserted in the Db\"\"\"\n",
    "    \n",
    "    try:\n",
    "        DF_ArtistData = param_df[['artist_id','artist_name','artist_location','artist_latitude','artist_longitude']].copy()\n",
    "        \n",
    "        DF_ArtistData.artist_location = DF_ArtistData.artist_location.apply(lambda x: 'Unknown' if (x == \"\" or None) else x)# Changing 0 years into the default value of missing numeric value -9999\n",
    "        DF_ArtistData.artist_latitude.replace(np.nan,-9999, inplace=True)# Replacing Nulls in artist_latitude with the default value of missing numeric value -9999\n",
    "        DF_ArtistData.artist_longitude.replace(np.nan,-9999, inplace=True)# Replacing Nulls in artist_longitude with the default value of missing numeric value -9999\n",
    "        \n",
    "        return DF_ArtistData\n",
    "    except Exception as e:\n",
    "        print(\"ERROR: {}\".format(e))"
   ]
  },
  {
   "cell_type": "code",
   "execution_count": 25,
   "metadata": {
    "editable": true
   },
   "outputs": [
    {
     "data": {
      "text/html": [
       "<div>\n",
       "<style scoped>\n",
       "    .dataframe tbody tr th:only-of-type {\n",
       "        vertical-align: middle;\n",
       "    }\n",
       "\n",
       "    .dataframe tbody tr th {\n",
       "        vertical-align: top;\n",
       "    }\n",
       "\n",
       "    .dataframe thead th {\n",
       "        text-align: right;\n",
       "    }\n",
       "</style>\n",
       "<table border=\"1\" class=\"dataframe\">\n",
       "  <thead>\n",
       "    <tr style=\"text-align: right;\">\n",
       "      <th></th>\n",
       "      <th>artist_id</th>\n",
       "      <th>artist_name</th>\n",
       "      <th>artist_location</th>\n",
       "      <th>artist_latitude</th>\n",
       "      <th>artist_longitude</th>\n",
       "    </tr>\n",
       "  </thead>\n",
       "  <tbody>\n",
       "    <tr>\n",
       "      <th>0</th>\n",
       "      <td>AR8IEZO1187B99055E</td>\n",
       "      <td>Marc Shaiman</td>\n",
       "      <td>Unknown</td>\n",
       "      <td>-9999.00000</td>\n",
       "      <td>-9999.00000</td>\n",
       "    </tr>\n",
       "    <tr>\n",
       "      <th>0</th>\n",
       "      <td>AR558FS1187FB45658</td>\n",
       "      <td>40 Grit</td>\n",
       "      <td>Unknown</td>\n",
       "      <td>-9999.00000</td>\n",
       "      <td>-9999.00000</td>\n",
       "    </tr>\n",
       "    <tr>\n",
       "      <th>0</th>\n",
       "      <td>ARVBRGZ1187FB4675A</td>\n",
       "      <td>Gwen Stefani</td>\n",
       "      <td>Unknown</td>\n",
       "      <td>-9999.00000</td>\n",
       "      <td>-9999.00000</td>\n",
       "    </tr>\n",
       "    <tr>\n",
       "      <th>0</th>\n",
       "      <td>ARNF6401187FB57032</td>\n",
       "      <td>Sophie B. Hawkins</td>\n",
       "      <td>New York, NY [Manhattan]</td>\n",
       "      <td>40.79086</td>\n",
       "      <td>-73.96644</td>\n",
       "    </tr>\n",
       "    <tr>\n",
       "      <th>0</th>\n",
       "      <td>AREVWGE1187B9B890A</td>\n",
       "      <td>Bitter End</td>\n",
       "      <td>Noci (BA)</td>\n",
       "      <td>-13.44200</td>\n",
       "      <td>-41.99520</td>\n",
       "    </tr>\n",
       "    <tr>\n",
       "      <th>0</th>\n",
       "      <td>AR0IAWL1187B9A96D0</td>\n",
       "      <td>Danilo Perez</td>\n",
       "      <td>Panama</td>\n",
       "      <td>8.41770</td>\n",
       "      <td>-80.11278</td>\n",
       "    </tr>\n",
       "    <tr>\n",
       "      <th>0</th>\n",
       "      <td>ARWB3G61187FB49404</td>\n",
       "      <td>Steve Morse</td>\n",
       "      <td>Hamilton, Ohio</td>\n",
       "      <td>-9999.00000</td>\n",
       "      <td>-9999.00000</td>\n",
       "    </tr>\n",
       "    <tr>\n",
       "      <th>0</th>\n",
       "      <td>ARULZCI1241B9C8611</td>\n",
       "      <td>Luna Orbit Project</td>\n",
       "      <td>Unknown</td>\n",
       "      <td>-9999.00000</td>\n",
       "      <td>-9999.00000</td>\n",
       "    </tr>\n",
       "    <tr>\n",
       "      <th>0</th>\n",
       "      <td>AR051KA1187B98B2FF</td>\n",
       "      <td>Wilks</td>\n",
       "      <td>Unknown</td>\n",
       "      <td>-9999.00000</td>\n",
       "      <td>-9999.00000</td>\n",
       "    </tr>\n",
       "    <tr>\n",
       "      <th>0</th>\n",
       "      <td>ARPFHN61187FB575F6</td>\n",
       "      <td>Lupe Fiasco</td>\n",
       "      <td>Chicago, IL</td>\n",
       "      <td>41.88415</td>\n",
       "      <td>-87.63241</td>\n",
       "    </tr>\n",
       "  </tbody>\n",
       "</table>\n",
       "</div>"
      ],
      "text/plain": [
       "            artist_id         artist_name           artist_location  \\\n",
       "0  AR8IEZO1187B99055E        Marc Shaiman                   Unknown   \n",
       "0  AR558FS1187FB45658             40 Grit                   Unknown   \n",
       "0  ARVBRGZ1187FB4675A        Gwen Stefani                   Unknown   \n",
       "0  ARNF6401187FB57032   Sophie B. Hawkins  New York, NY [Manhattan]   \n",
       "0  AREVWGE1187B9B890A          Bitter End                 Noci (BA)   \n",
       "0  AR0IAWL1187B9A96D0        Danilo Perez                    Panama   \n",
       "0  ARWB3G61187FB49404         Steve Morse            Hamilton, Ohio   \n",
       "0  ARULZCI1241B9C8611  Luna Orbit Project                   Unknown   \n",
       "0  AR051KA1187B98B2FF               Wilks                   Unknown   \n",
       "0  ARPFHN61187FB575F6         Lupe Fiasco               Chicago, IL   \n",
       "\n",
       "   artist_latitude  artist_longitude  \n",
       "0      -9999.00000       -9999.00000  \n",
       "0      -9999.00000       -9999.00000  \n",
       "0      -9999.00000       -9999.00000  \n",
       "0         40.79086         -73.96644  \n",
       "0        -13.44200         -41.99520  \n",
       "0          8.41770         -80.11278  \n",
       "0      -9999.00000       -9999.00000  \n",
       "0      -9999.00000       -9999.00000  \n",
       "0      -9999.00000       -9999.00000  \n",
       "0         41.88415         -87.63241  "
      ]
     },
     "execution_count": 25,
     "metadata": {},
     "output_type": "execute_result"
    }
   ],
   "source": [
    "FUNC_ProcessArtistData(DF_AllLogs).head(10)"
   ]
  },
  {
   "cell_type": "code",
   "execution_count": 26,
   "metadata": {
    "editable": true
   },
   "outputs": [
    {
     "data": {
      "text/plain": [
       "69"
      ]
     },
     "execution_count": 26,
     "metadata": {},
     "output_type": "execute_result"
    }
   ],
   "source": [
    "len(FUNC_ProcessArtistData(DF_AllLogs).artist_id.unique())"
   ]
  },
  {
   "cell_type": "code",
   "execution_count": 27,
   "metadata": {
    "editable": true
   },
   "outputs": [
    {
     "data": {
      "text/plain": [
       "69"
      ]
     },
     "execution_count": 27,
     "metadata": {},
     "output_type": "execute_result"
    }
   ],
   "source": [
    "len(DF_AllLogs.artist_id.unique())"
   ]
  },
  {
   "cell_type": "code",
   "execution_count": null,
   "metadata": {
    "editable": true
   },
   "outputs": [],
   "source": []
  }
 ],
 "metadata": {
  "kernelspec": {
   "display_name": "Python 3",
   "language": "python",
   "name": "python3"
  },
  "language_info": {
   "codemirror_mode": {
    "name": "ipython",
    "version": 3
   },
   "file_extension": ".py",
   "mimetype": "text/x-python",
   "name": "python",
   "nbconvert_exporter": "python",
   "pygments_lexer": "ipython3",
   "version": "3.6.3"
  }
 },
 "nbformat": 4,
 "nbformat_minor": 4
}
